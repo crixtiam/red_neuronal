{
 "cells": [
  {
   "cell_type": "code",
   "execution_count": 1,
   "id": "76a068a0",
   "metadata": {},
   "outputs": [],
   "source": [
    "import tensorflow as tf\n",
    "import numpy as np"
   ]
  },
  {
   "cell_type": "markdown",
   "id": "81c1a152",
   "metadata": {},
   "source": [
    "T (° F) = 20 ° C × 9/5 + 32 = 68 ° F"
   ]
  },
  {
   "cell_type": "code",
   "execution_count": 2,
   "id": "0b5e89d3",
   "metadata": {},
   "outputs": [],
   "source": [
    "input_c = np.array([-40,-10,0,8,15,22,38],dtype = float)"
   ]
  },
  {
   "cell_type": "code",
   "execution_count": 3,
   "id": "cc621f1c",
   "metadata": {},
   "outputs": [
    {
     "data": {
      "text/plain": [
       "array([-40., -10.,   0.,   8.,  15.,  22.,  38.])"
      ]
     },
     "execution_count": 3,
     "metadata": {},
     "output_type": "execute_result"
    }
   ],
   "source": [
    "input_c"
   ]
  },
  {
   "cell_type": "code",
   "execution_count": 4,
   "id": "b1b577d7",
   "metadata": {},
   "outputs": [],
   "source": [
    "output_f = np.array([-40,14,32,46.4,59,72,100],dtype=float)"
   ]
  },
  {
   "cell_type": "code",
   "execution_count": 5,
   "id": "fbea5c42",
   "metadata": {},
   "outputs": [],
   "source": [
    "#capa = tf.keras.layers.Dense(units=1,input_shape=[1])\n",
    "#modelo = tf.keras.Sequential([capa])\n",
    "\n",
    "oculta_1 = tf.keras.layers.Dense(units=3,input_shape=[1])\n",
    "oculta_2 = tf.keras.layers.Dense(units=3)\n",
    "output_1 = tf.keras.layers.Dense(units=1)\n",
    "modelo = tf.keras.Sequential([oculta_1,oculta_2,output_1])"
   ]
  },
  {
   "cell_type": "code",
   "execution_count": 6,
   "id": "2363a300",
   "metadata": {},
   "outputs": [],
   "source": [
    "modelo.compile(\n",
    "    optimizer = tf.keras.optimizers.Adam(0.1),\n",
    "    loss = \"mean_squared_error\"\n",
    ")"
   ]
  },
  {
   "cell_type": "code",
   "execution_count": 7,
   "id": "b0dc36f1",
   "metadata": {},
   "outputs": [
    {
     "name": "stdout",
     "output_type": "stream",
     "text": [
      "modelo red neuronal\n"
     ]
    }
   ],
   "source": [
    "print('modelo red neuronal')\n",
    "hist = modelo.fit(input_c,output_f,epochs=1000,verbose= False)"
   ]
  },
  {
   "cell_type": "code",
   "execution_count": 8,
   "id": "6cfd613c",
   "metadata": {},
   "outputs": [
    {
     "data": {
      "text/plain": [
       "[<matplotlib.lines.Line2D at 0x2f37c769ed0>]"
      ]
     },
     "execution_count": 8,
     "metadata": {},
     "output_type": "execute_result"
    },
    {
     "data": {
      "image/png": "[encoded data removed]",
      "text/plain": [
       "<Figure size 432x288 with 1 Axes>"
      ]
     },
     "metadata": {
      "needs_background": "light"
     },
     "output_type": "display_data"
    }
   ],
   "source": [
    "import matplotlib.pyplot as plt\n",
    "\n",
    "plt.xlabel(\"numero epoca\")\n",
    "plt.ylabel(\"Magnitud de perdida\")\n",
    "plt.plot(hist.history[\"loss\"])"
   ]
  },
  {
   "cell_type": "code",
   "execution_count": 12,
   "id": "4b1a4509",
   "metadata": {},
   "outputs": [
    {
     "name": "stdout",
     "output_type": "stream",
     "text": [
      "1/1 [==============================] - 0s 105ms/step\n",
      "valor de 90C es  [[391.66776]]\n"
     ]
    }
   ],
   "source": [
    "print(f\"valor de 90C es  {modelo.predict([200])}\")"
   ]
  },
  {
   "cell_type": "code",
   "execution_count": 10,
   "id": "694b2739",
   "metadata": {},
   "outputs": [
    {
     "name": "stdout",
     "output_type": "stream",
     "text": [
      "1/1 [==============================] - 0s 61ms/step\n",
      "valor de 100C es  [[211.83789]]\n"
     ]
    }
   ],
   "source": [
    "print(f\"valor de 100C es  {modelo.predict([100])}\")"
   ]
  },
  {
   "cell_type": "code",
   "execution_count": 13,
   "id": "4c2e158d",
   "metadata": {},
   "outputs": [
    {
     "name": "stdout",
     "output_type": "stream",
     "text": [
      "[array([[ 0.20737985, -0.66345894,  0.15008678]], dtype=float32), array([ 3.2944458, -3.4087532,  3.2087257], dtype=float32)]\n"
     ]
    }
   ],
   "source": [
    "print(oculta_1.get_weights())"
   ]
  },
  {
   "cell_type": "code",
   "execution_count": 14,
   "id": "c9ca4a48",
   "metadata": {},
   "outputs": [
    {
     "name": "stdout",
     "output_type": "stream",
     "text": [
      "[array([[ 1.1351583 , -0.28904623, -0.5964613 ],\n",
      "       [-0.35511032,  0.57295024, -0.74484813],\n",
      "       [ 0.5972371 , -1.2507327 ,  0.03991837]], dtype=float32), array([ 3.1804626, -3.2700953,  3.214445 ], dtype=float32)]\n"
     ]
    }
   ],
   "source": [
    "print(oculta_2.get_weights())"
   ]
  },
  {
   "cell_type": "code",
   "execution_count": 15,
   "id": "a10a7419",
   "metadata": {},
   "outputs": [
    {
     "name": "stdout",
     "output_type": "stream",
     "text": [
      "[array([[ 1.5505261],\n",
      "       [-0.9883705],\n",
      "       [ 0.8194767]], dtype=float32), array([3.1501727], dtype=float32)]\n"
     ]
    }
   ],
   "source": [
    "print(output_1.get_weights())"
   ]
  },
  {
   "cell_type": "code",
   "execution_count": null,
   "id": "70090097",
   "metadata": {},
   "outputs": [],
   "source": []
  }
 ],
 "metadata": {
  "kernelspec": {
   "display_name": "Python 3 (ipykernel)",
   "language": "python",
   "name": "python3"
  },
  "language_info": {
   "codemirror_mode": {
    "name": "ipython",
    "version": 3
   },
   "file_extension": ".py",
   "mimetype": "text/x-python",
   "name": "python",
   "nbconvert_exporter": "python",
   "pygments_lexer": "ipython3",
   "version": "3.10.4"
  }
 },
 "nbformat": 4,
 "nbformat_minor": 5
}
